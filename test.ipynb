{
 "cells": [
  {
   "cell_type": "code",
   "execution_count": 1,
   "metadata": {},
   "outputs": [],
   "source": [
    "import re\n",
    "import os \n",
    "import pandas as pd\n",
    "from datetime import datetime, timedelta"
   ]
  },
  {
   "cell_type": "code",
   "execution_count": null,
   "metadata": {},
   "outputs": [
    {
     "data": {
      "text/plain": [
       "True\n"
      ]
     },
     "metadata": {},
     "output_type": "display_data"
    }
   ],
   "source": [
    "HOLIDAY_DATA_PATH ='D:\\ADITYA\\DATA\\Holidays'\n",
    "\n",
    "\n",
    "def check_holiday(HOLIDAY_YEAR, GIVEN_DATE):\n",
    "    CHECK_DATE = datetime.strptime(GIVEN_DATE, '%Y-%m-%d').date()\n",
    "\n",
    "    HOLIDAY_DATASET = pd.read_feather(f'{HOLIDAY_DATA_PATH}\\\\{HOLIDAY_YEAR}.feather')\n",
    "\n",
    "    DATE_LIST = [datetime.strptime(str(row['Date']),'%y%m%d').date() for index, row in HOLIDAY_DATASET.iterrows()]\n",
    "\n",
    "    if CHECK_DATE in DATE_LIST:\n",
    "        return True\n",
    "    else:\n",
    "        return False\n",
    "\n",
    "m = check_holiday(2023,'2023-03-08')\n",
    "print(m)"
   ]
  },
  {
   "cell_type": "code",
   "execution_count": null,
   "metadata": {},
   "outputs": [
    {
     "name": "stdout",
     "output_type": "stream",
     "text": [
      "09:15:00\n"
     ]
    }
   ],
   "source": [
    "PATH_INITIALS = r'D:\\ADITYA\\DATA\\2023'\n",
    "DATA_PATH = 'BANKNIFTY_JF_FNO_'\n",
    "\n",
    "\n",
    "MONTH_SET={\n",
    "    1:'JAN',\n",
    "    2:'FEB',\n",
    "    3:'MAR',\n",
    "    4:'APR',\n",
    "    5:'MAY',\n",
    "    6:'JUN',\n",
    "    7:'JUL',\n",
    "    8:'AUG',\n",
    "    9:'SEP',\n",
    "    10:'OCT',\n",
    "    11:'NOV',\n",
    "    12:'DEC'\n",
    "\n",
    "}\n",
    "\n",
    "\n",
    "def load_data(FROM_DATE, TO_DATE, START_TIME, UNDERLYING):\n",
    "    UNDERLYING = 'BANKNIFTY'\n",
    "\n",
    "    FINAL_DATA_SET = []\n",
    "\n",
    "    FROM_DATE = datetime.strptime(FROM_DATE, '%Y-%m-%d').date()\n",
    "    TO_DATE = datetime.strptime(TO_DATE, '%Y-%m-%d').date()\n",
    "\n",
    "    START_TIME = datetime.strptime(START_TIME, '%H:%M').time()\n",
    "\n",
    "    print(START_TIME)\n",
    "\n",
    "    DATA_RANGE = pd.date_range(FROM_DATE, TO_DATE)\n",
    "\n",
    "    for CURRENT_DATE in DATA_RANGE:\n",
    "        FORMATED_DATE = CURRENT_DATE.strftime('%d%m%Y')\n",
    "        MONTH_NUM = CURRENT_DATE.month\n",
    "        MONTH = MONTH_SET.get(MONTH_NUM)\n",
    "\n",
    "        FILE_PATH = fr'{PATH_INITIALS}\\{MONTH}\\{UNDERLYING}\\{DATA_PATH}{FORMATED_DATE}.feather'\n",
    "        \n",
    "        if os.path.exists(FILE_PATH):\n",
    "     \n",
    "            if UNDERLYING == 'BANKNIFTY':\n",
    "                DATASET = pd.read_feather(FILE_PATH)\n",
    "               \n",
    "                # EXPIRY_LST  = create_expiry(DATASET)\n",
    "                # SORTED_EXP_DATES = sorted(set(datetime.strptime(val, '%d%b%y') for val in EXPIRY_LST))\n",
    "                # weekly_expiry = (SORTED_EXP_DATES[0]).date()\n",
    "\n",
    "                # DATASET.loc[DATASET['Symbol']=='BANKNIFTY-I', 'WeeklyExpiry'] = weekly_expiry\n",
    "\n",
    "                # DATASET.to_excel(F\"{UNDERLYING}_{FORMATED_DATE}.xlsx\")\n",
    "\n",
    "                FINAL_DATA_SET.append(DATASET)\n",
    "        \n",
    "        else:\n",
    "            continue\n",
    "\n",
    "    # return FINAL_DATA_SET\n",
    "\n",
    "def create_expiry(DATA_SET):\n",
    "    EXPIRY_LST = []\n",
    "    DISTINCT_SYMBOLS = pd.Series(DATA_SET['Symbol']).unique()\n",
    "   \n",
    "    for items in DISTINCT_SYMBOLS:\n",
    "        if items == 'BANKNIFTY-I' or items == 'BANKNIFTY-II' or items == \"BANKNIFTY-III\":\n",
    "            continue\n",
    "\n",
    "        else:\n",
    "            MATCH_DATA = re.search(r'\\d{2}[A-Za-z]{3}\\d{2}', items)\n",
    "\n",
    "            if MATCH_DATA:\n",
    "                EXPIRY_DATES = MATCH_DATA.group(0)\n",
    "                # print(EXPIRY_DATES)\n",
    "\n",
    "                EXPIRY_LST.append(EXPIRY_DATES)\n",
    "\n",
    "            else:\n",
    "                print(None)\n",
    "\n",
    "    return EXPIRY_LST\n",
    "\n",
    "\n",
    "load_data('2023-04-09', '2023-04-10', '09:15' ,'BANKNIFTY')\n"
   ]
  },
  {
   "cell_type": "code",
   "execution_count": 8,
   "metadata": {},
   "outputs": [
    {
     "data": {
      "text/plain": [
       "48200"
      ]
     },
     "execution_count": 8,
     "metadata": {},
     "output_type": "execute_result"
    }
   ],
   "source": [
    "int(round(48229.85, -2))"
   ]
  },
  {
   "cell_type": "code",
   "execution_count": 4,
   "metadata": {},
   "outputs": [
    {
     "data": {
      "text/plain": [
       "False"
      ]
     },
     "execution_count": 4,
     "metadata": {},
     "output_type": "execute_result"
    }
   ],
   "source": [
    "df = pd.read_feather(fr\"D:\\ADITYA\\DATA\\2023\\APR\\BANKNIFTY\\BANKNIFTY_JF_FNO_11042023.feather\")\n",
    "\n",
    "df['Symbol'].loc == 'BANKNIFTY13APR2341200PE'"
   ]
  },
  {
   "cell_type": "code",
   "execution_count": 2,
   "metadata": {},
   "outputs": [
    {
     "name": "stdout",
     "output_type": "stream",
     "text": [
      "09:15\n",
      "09:16\n",
      "09:17\n",
      "09:18\n",
      "09:19\n",
      "09:20\n",
      "09:21\n",
      "09:22\n",
      "09:23\n",
      "09:24\n",
      "09:25\n",
      "09:26\n",
      "09:27\n",
      "09:28\n",
      "09:29\n",
      "09:30\n",
      "09:31\n",
      "09:32\n",
      "09:33\n",
      "09:34\n",
      "09:35\n",
      "09:36\n",
      "09:37\n",
      "09:38\n",
      "09:39\n",
      "09:40\n",
      "09:41\n",
      "09:42\n",
      "09:43\n",
      "09:44\n",
      "09:45\n",
      "09:46\n",
      "09:47\n",
      "09:48\n",
      "09:49\n",
      "09:50\n",
      "09:51\n",
      "09:52\n",
      "09:53\n",
      "09:54\n",
      "09:55\n",
      "09:56\n",
      "09:57\n",
      "09:58\n",
      "09:59\n",
      "10:00\n",
      "10:01\n",
      "10:02\n",
      "10:03\n",
      "10:04\n",
      "10:05\n",
      "10:06\n",
      "10:07\n",
      "10:08\n",
      "10:09\n",
      "10:10\n",
      "10:11\n",
      "10:12\n",
      "10:13\n",
      "10:14\n",
      "10:15\n"
     ]
    }
   ],
   "source": [
    "from datetime import datetime, timedelta\n",
    "\n",
    "# Example start and end times as time objects\n",
    "START_TIME = datetime.strptime(\"09:15\", \"%H:%M\").time()\n",
    "END_TIME = datetime.strptime(\"10:15\", \"%H:%M\").time()\n",
    "\n",
    "# Use a reference date (arbitrary) to allow timedelta operations\n",
    "reference_date = datetime.today()\n",
    "current_time = datetime.combine(reference_date, START_TIME)\n",
    "end_time = datetime.combine(reference_date, END_TIME)\n",
    "\n",
    "# Iterate over time (ignoring the date)\n",
    "while current_time.time() <= end_time.time():\n",
    "    print(current_time.time().strftime(\"%H:%M\"))  # Print only time part\n",
    "    current_time += timedelta(minutes=1)  # Add one minute\n"
   ]
  },
  {
   "cell_type": "code",
   "execution_count": 6,
   "metadata": {},
   "outputs": [],
   "source": [
    "import pyarrow.feather as feather\n",
    "\n",
    "data_path = r'D:\\ADITYA\\DATA\\2023\\APR\\BANKNIFTY\\BANKNIFTY_JF_FNO_13042023.feather'\n",
    "\n",
    "data_set = feather.read_feather(data_path)\n",
    "data_set.to_csv('BANKNIFTY_JF_FNO_13042023.csv')"
   ]
  },
  {
   "cell_type": "code",
   "execution_count": null,
   "metadata": {},
   "outputs": [],
   "source": []
  }
 ],
 "metadata": {
  "kernelspec": {
   "display_name": "env",
   "language": "python",
   "name": "python3"
  },
  "language_info": {
   "codemirror_mode": {
    "name": "ipython",
    "version": 3
   },
   "file_extension": ".py",
   "mimetype": "text/x-python",
   "name": "python",
   "nbconvert_exporter": "python",
   "pygments_lexer": "ipython3",
   "version": "3.12.9"
  }
 },
 "nbformat": 4,
 "nbformat_minor": 2
}
